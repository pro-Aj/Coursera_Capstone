{
 "cells": [
  {
   "cell_type": "markdown",
   "metadata": {},
   "source": [
    "<h2>Capstone Project - Finding the Indian Restaurants</h2>"
   ]
  },
  {
   "cell_type": "markdown",
   "metadata": {},
   "source": [
    "<b>1.Introduction & Business Problem:</b>"
   ]
  },
  {
   "cell_type": "markdown",
   "metadata": {},
   "source": [
    "There is one Indian man who is going to New York City for a two month. He is going there only for two month because he got a invitation to attend the largest annual tech event of \"XYZ\" company and after that he will be back to India. \n",
    "So the problem is this: \n",
    "* He want to rent a flat for a two month in the area where he will easily get the Indian Restaurants or Indian Cuisine. \n",
    "\n",
    "Solution of this problem:\n",
    "* I am going to take the data of New York city and with the help of Foursquare API will get that which Borough and its Neighborhood having maximum number of Indian Cuisine/ Indian Restaurants.\n",
    "* And after we will display it on a map so the Indian person can get in which area/borough he should search a flat for rent."
   ]
  },
  {
   "cell_type": "markdown",
   "metadata": {},
   "source": [
    "<b>2. Data Requirements and Data Acquisition:</b>"
   ]
  },
  {
   "cell_type": "markdown",
   "metadata": {},
   "source": [
    "Data 1: Data source: https://cocl.us/new_york_dataset\n",
    "Description: This data set contains the required information. And we will use this data set to explore various neighbourhoods of New York city.\n",
    "Neighbourhood has a total of 5 boroughs and 306 neighbourhoods. In order to segment the\n",
    "neighbourhoods and explore them, we will essentially need a dataset that contains the 5 boroughs and the neighbourhoods that exist in each borough as well as the latitude and longitude coordinates of each neighbourhood.\n",
    "\n",
    "Data 2: Indian restaurants in each neighbourhood of New York city.\n",
    "Data source: Foursquare API\n",
    "Description: By using this api we will get all the venues in each neighbourhood. We can filter these venues to get only Indian restaurants.\n",
    "\n",
    "Data 3: GeoSpace data\n",
    "Data source: https://data.cityofnewyork.us/City-Government/Borough-Boundaries/tqmj-j8zm\n",
    "Description: By using this geo space data we will get the New York Borough boundaries that will help us visualize choropleth map.\n"
   ]
  },
  {
   "cell_type": "markdown",
   "metadata": {},
   "source": [
    "<b>Analysis</b>"
   ]
  },
  {
   "cell_type": "markdown",
   "metadata": {},
   "source": [
    "We will import the required libraries for python.\n",
    "*\tpandas and numpy for handling data.\n",
    "*\trequest module for using FourSquare API.\n",
    "*\tgeopy to get co-ordinates of City of New York.\n",
    "*\tfolium to visualize the results on a map\n"
   ]
  },
  {
   "cell_type": "markdown",
   "metadata": {},
   "source": [
    "Now we define a function to get the geocodes i.e latitude and longitude of a given location using geopy.\n",
    "We define a function to interact with FourSquare API and get top 100 venues within a radius of 1000 metres for a given latitude and longitude. Function will return us the venue id , venue name and category.\n",
    "Now we will define a function to get venue details like count , rating , tip counts for a given venue id.\n",
    "Now we define a function to get the new york city data such as Boroughs, Neighborhoods along with their latitude and longitude.\n"
   ]
  },
  {
   "cell_type": "markdown",
   "metadata": {},
   "source": [
    "<b>The rest analysis is a part of week 2 capstone project so the rest part is completed there. For this part the **Problem** and **Data Requirement** and **Analysis** step is mentioned.</b>"
   ]
  },
  {
   "cell_type": "code",
   "execution_count": 3,
   "metadata": {},
   "outputs": [
    {
     "ename": "SyntaxError",
     "evalue": "invalid syntax (<ipython-input-3-388d7776a68d>, line 1)",
     "output_type": "error",
     "traceback": [
      "\u001b[0;36m  File \u001b[0;32m\"<ipython-input-3-388d7776a68d>\"\u001b[0;36m, line \u001b[0;32m1\u001b[0m\n\u001b[0;31m    <b>For the final analysis report please have a look on week 2 assignment submission.</b>\u001b[0m\n\u001b[0m    ^\u001b[0m\n\u001b[0;31mSyntaxError\u001b[0m\u001b[0;31m:\u001b[0m invalid syntax\n"
     ]
    }
   ],
   "source": [
    "<b>For the final analysis report please have a look on week 2 assignment submission.</b>"
   ]
  },
  {
   "cell_type": "code",
   "execution_count": null,
   "metadata": {},
   "outputs": [],
   "source": []
  }
 ],
 "metadata": {
  "kernelspec": {
   "display_name": "Python",
   "language": "python",
   "name": "conda-env-python-py"
  },
  "language_info": {
   "codemirror_mode": {
    "name": "ipython",
    "version": 3
   },
   "file_extension": ".py",
   "mimetype": "text/x-python",
   "name": "python",
   "nbconvert_exporter": "python",
   "pygments_lexer": "ipython3",
   "version": "3.6.10"
  }
 },
 "nbformat": 4,
 "nbformat_minor": 4
}
